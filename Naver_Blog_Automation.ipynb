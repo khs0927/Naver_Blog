{
  "cells": [
    {
      "cell_type": "markdown",
      "metadata": {
        "id": "gv1vfcftc7q5"
      },
      "source": [
        "# 네이버 블로그 자동화 시스템 (Google Colab용)"
      ]
    },
    {
      "cell_type": "markdown",
      "metadata": {
        "id": "Bq-DKEt2c7q7"
      },
      "source": [
        "## 1. 환경 설정 및 종속성 설치"
      ]
    },
    {
      "cell_type": "code",
      "execution_count": 1,
      "metadata": {
        "id": "lOEiL8XWc7q7"
      },
      "outputs": [],
      "source": [
        "# Google Drive 마운트 (선택 사항 - 데이터 지속성을 위해)\n",
        "# from google.colab import drive\n",
        "# drive.mount('/content/drive')"
      ]
    },
    {
      "cell_type": "code",
      "execution_count": 2,
      "metadata": {
        "colab": {
          "base_uri": "https://localhost:8080/"
        },
        "id": "vjQkUUt-c7q8",
        "outputId": "ec05fb86-818e-4fdf-c2ce-4aa4c5e45643"
      },
      "outputs": [
        {
          "output_type": "stream",
          "name": "stdout",
          "text": [
            "Collecting uv\n",
            "  Downloading uv-0.7.13-py3-none-manylinux_2_17_x86_64.manylinux2014_x86_64.whl.metadata (11 kB)\n",
            "Downloading uv-0.7.13-py3-none-manylinux_2_17_x86_64.manylinux2014_x86_64.whl (17.8 MB)\n",
            "\u001b[2K   \u001b[90m━━━━━━━━━━━━━━━━━━━━━━━━━━━━━━━━━━━━━━━━\u001b[0m \u001b[32m17.8/17.8 MB\u001b[0m \u001b[31m101.5 MB/s\u001b[0m eta \u001b[36m0:00:00\u001b[0m\n",
            "\u001b[?25hInstalling collected packages: uv\n",
            "Successfully installed uv-0.7.13\n"
          ]
        }
      ],
      "source": [
        "# uv 설치 (Python 종속성 관리 도구)\n",
        "!pip install uv"
      ]
    },
    {
      "cell_type": "code",
      "execution_count": 5,
      "metadata": {
        "colab": {
          "base_uri": "https://localhost:8080/"
        },
        "id": "xOPS3bj7c7q8",
        "outputId": "7167e74b-e435-468b-ff73-3b05291573fa"
      },
      "outputs": [
        {
          "output_type": "stream",
          "name": "stdout",
          "text": [
            "Overwriting requirements.txt\n"
          ]
        }
      ],
      "source": [
        "# requirements.txt 파일 생성\n",
        "%%writefile requirements.txt\n",
        "Flask\n",
        "playwright\n",
        "APScheduler"
      ]
    },
    {
      "cell_type": "code",
      "execution_count": 4,
      "metadata": {
        "colab": {
          "base_uri": "https://localhost:8080/"
        },
        "id": "V7BRnUIdc7q9",
        "outputId": "b47d8508-9924-4d4a-e437-cd391a6a1a14"
      },
      "outputs": [
        {
          "output_type": "stream",
          "name": "stdout",
          "text": [
            "\u001b[2mUsing Python 3.11.13 environment at: /usr\u001b[0m\n",
            "\u001b[2K  \u001b[31m×\u001b[0m No solution found when resolving dependencies:\n",
            "\u001b[31m  ╰─▶ \u001b[0mBecause google-generative-ai was not found in the package registry and\n",
            "\u001b[31m      \u001b[0myou require google-generative-ai, we can conclude that your requirements\n",
            "\u001b[31m      \u001b[0mare unsatisfiable.\n"
          ]
        }
      ],
      "source": [
        "# Python 종속성 설치\n",
        "!uv pip install -r requirements.txt"
      ]
    },
    {
      "cell_type": "code",
      "execution_count": null,
      "metadata": {
        "id": "0BZcEGfWc7q9"
      },
      "outputs": [],
      "source": [
        "# Playwright 브라우저 바이너리 설치\n",
        "!playwright install"
      ]
    },
    {
      "cell_type": "markdown",
      "metadata": {
        "id": "KxXc_5WRc7q9"
      },
      "source": [
        "## 2. 프로젝트 파일 업로드"
      ]
    },
    {
      "cell_type": "markdown",
      "metadata": {
        "id": "baJATuFNc7q9"
      },
      "source": [
        "로컬 프로젝트 파일을 Colab 환경으로 업로드해야 합니다. 왼쪽 파일 아이콘을 클릭하여 파일을 직접 업로드하거나, Google Drive에 저장한 후 마운트하여 사용할 수 있습니다."
      ]
    },
    {
      "cell_type": "markdown",
      "metadata": {
        "id": "NJpq5N0ic7q9"
      },
      "source": [
        "**필수 업로드 파일:**\n",
        "- `main.py`\n",
        "- `automation.py`\n",
        "- `encryption.py`\n",
        "- `user.py`\n",
        "- `package.json` (프론트엔드 관련, Colab에서 직접 실행하지 않을 경우 불필요)\n",
        "- `requirements.txt` (위에서 생성했으므로 직접 업로드할 필요 없음)"
      ]
    },
    {
      "cell_type": "markdown",
      "metadata": {
        "id": "7uhy1Gilc7q-"
      },
      "source": [
        "## 3. Python 스크립트 실행"
      ]
    },
    {
      "cell_type": "markdown",
      "metadata": {
        "id": "QDMmlB40c7q-"
      },
      "source": [
        "### 3.1. `main.py` 실행 (백엔드 서버 시작)"
      ]
    },
    {
      "cell_type": "code",
      "execution_count": null,
      "metadata": {
        "id": "Zo73R25rc7q-"
      },
      "outputs": [],
      "source": [
        "# `main.py` 파일을 실행하여 백엔드 서버를 시작합니다.\n",
        "# 서버가 실행되면 터미널에 URL이 표시될 수 있습니다.\n",
        "!python main.py"
      ]
    },
    {
      "cell_type": "markdown",
      "metadata": {
        "id": "sHtfnHOuc7q-"
      },
      "source": [
        "### 3.2. 다른 Python 스크립트 실행 (예: `automation.py` 테스트)"
      ]
    },
    {
      "cell_type": "code",
      "execution_count": null,
      "metadata": {
        "id": "quN4P3pdc7q-"
      },
      "outputs": [],
      "source": [
        "# `automation.py` 또는 다른 스크립트를 직접 실행해야 하는 경우 사용합니다.\n",
        "# 예시: Playwright 자동화 기능을 테스트하기 위해\n",
        "# !python automation.py"
      ]
    },
    {
      "cell_type": "markdown",
      "metadata": {
        "id": "n9gbfve_c7q_"
      },
      "source": [
        "## 4. 프론트엔드 (선택 사항)"
      ]
    },
    {
      "cell_type": "markdown",
      "metadata": {
        "id": "nB7uYLvUc7q_"
      },
      "source": [
        "이 프로젝트는 React/Next.js 기반의 프론트엔드를 포함하고 있습니다. Colab은 주로 Python 백엔드 및 데이터 처리 작업에 사용되므로, 프론트엔드는 로컬 환경에서 실행하는 것을 권장합니다.\n",
        "\n",
        "만약 Colab에서 프론트엔드를 실행해야 한다면, 추가적인 설정 (예: `npm install`, `npm run build`, `npm start` 또는 Next.js 개발 서버 실행)이 필요하며, Colab의 제한된 환경에서 웹 서버를 노출하는 방법을 고려해야 합니다."
      ]
    },
    {
      "cell_type": "code",
      "metadata": {
        "colab": {
          "base_uri": "https://localhost:8080/"
        },
        "id": "ff3727cd",
        "outputId": "4895861e-bd6b-4542-b556-eeb1784db4c3"
      },
      "source": [
        "# Python 종속성 설치\n",
        "!uv pip install -r requirements.txt"
      ],
      "execution_count": 6,
      "outputs": [
        {
          "output_type": "stream",
          "name": "stdout",
          "text": [
            "\u001b[2mUsing Python 3.11.13 environment at: /usr\u001b[0m\n",
            "\u001b[37m⠋\u001b[0m \u001b[2mResolving dependencies...                                                     \u001b[0m\r\u001b[2K\u001b[37m⠙\u001b[0m \u001b[2mResolving dependencies...                                                     \u001b[0m\r\u001b[2K\u001b[37m⠋\u001b[0m \u001b[2mResolving dependencies...                                                     \u001b[0m\r\u001b[2K\u001b[37m⠙\u001b[0m \u001b[2mResolving dependencies...                                                     \u001b[0m\r\u001b[2K\u001b[37m⠙\u001b[0m \u001b[2mflask==3.1.1                                                                  \u001b[0m\r\u001b[2K\u001b[37m⠙\u001b[0m \u001b[2mplaywright==1.52.0                                                            \u001b[0m\r\u001b[2K\u001b[37m⠙\u001b[0m \u001b[2mapscheduler==3.11.0                                                           \u001b[0m\r\u001b[2K\u001b[37m⠙\u001b[0m \u001b[2mblinker==1.9.0                                                                \u001b[0m\r\u001b[2K\u001b[37m⠙\u001b[0m \u001b[2mclick==8.2.1                                                                  \u001b[0m\r\u001b[2K\u001b[37m⠙\u001b[0m \u001b[2mitsdangerous==2.2.0                                                           \u001b[0m\r\u001b[2K\u001b[37m⠙\u001b[0m \u001b[2mjinja2==3.1.6                                                                 \u001b[0m\r\u001b[2K\u001b[37m⠙\u001b[0m \u001b[2mmarkupsafe==3.0.2                                                             \u001b[0m\r\u001b[2K\u001b[37m⠙\u001b[0m \u001b[2mwerkzeug==3.1.3                                                               \u001b[0m\r\u001b[2K\u001b[37m⠙\u001b[0m \u001b[2mpyee==13.0.0                                                                  \u001b[0m\r\u001b[2K\u001b[37m⠙\u001b[0m \u001b[2mgreenlet==3.2.3                                                               \u001b[0m\r\u001b[2K\u001b[37m⠙\u001b[0m \u001b[2mtzlocal==5.3.1                                                                \u001b[0m\r\u001b[2K\u001b[37m⠙\u001b[0m \u001b[2mtyping-extensions==4.14.0                                                     \u001b[0m\r\u001b[2K\u001b[37m⠙\u001b[0m \u001b[2m                                                                              \u001b[0m\r\u001b[2K\u001b[2mResolved \u001b[1m13 packages\u001b[0m \u001b[2min 39ms\u001b[0m\u001b[0m\n",
            "\u001b[37m⠋\u001b[0m \u001b[2mPreparing packages...\u001b[0m (0/0)                                                   \r\u001b[2K\u001b[37m⠋\u001b[0m \u001b[2mPreparing packages...\u001b[0m (0/3)                                                   \r\u001b[2K\u001b[37m⠙\u001b[0m \u001b[2mPreparing packages...\u001b[0m (0/3)                                                   \r\u001b[2K\u001b[37m⠙\u001b[0m \u001b[2mPreparing packages...\u001b[0m (0/3)\n",
            "\u001b[2mplaywright          \u001b[0m \u001b[32m\u001b[2m------------------------------\u001b[0m\u001b[0m     0 B/43.05 MiB           \u001b[1A\r\u001b[2K\u001b[1B\r\u001b[2K\u001b[1A\u001b[37m⠙\u001b[0m \u001b[2mPreparing packages...\u001b[0m (0/3)\n",
            "\u001b[2mplaywright          \u001b[0m \u001b[32m\u001b[2m------------------------------\u001b[0m\u001b[0m     0 B/43.05 MiB           \u001b[1A\r\u001b[2K\u001b[1B\r\u001b[2K\u001b[1A\u001b[37m⠙\u001b[0m \u001b[2mPreparing packages...\u001b[0m (0/3)\n",
            "\u001b[2mapscheduler         \u001b[0m \u001b[32m\u001b[2m------------------------------\u001b[0m\u001b[0m     0 B/62.50 KiB\n",
            "\u001b[2mplaywright          \u001b[0m \u001b[32m\u001b[2m------------------------------\u001b[0m\u001b[0m     0 B/43.05 MiB           \u001b[2A\r\u001b[2K\u001b[1B\r\u001b[2K\u001b[1B\r\u001b[2K\u001b[2A\u001b[37m⠙\u001b[0m \u001b[2mPreparing packages...\u001b[0m (0/3)\n",
            "\u001b[2mapscheduler         \u001b[0m \u001b[32m\u001b[2m------------------------------\u001b[0m\u001b[0m     0 B/62.50 KiB\n",
            "\u001b[2mplaywright          \u001b[0m \u001b[32m-\u001b[2m-----------------------------\u001b[0m\u001b[0m 14.90 KiB/43.05 MiB         \u001b[2A\r\u001b[2K\u001b[1B\r\u001b[2K\u001b[1B\r\u001b[2K\u001b[2A\u001b[37m⠙\u001b[0m \u001b[2mPreparing packages...\u001b[0m (0/3)\n",
            "\u001b[2mapscheduler         \u001b[0m \u001b[32m--------\u001b[2m----------------------\u001b[0m\u001b[0m 16.00 KiB/62.50 KiB\n",
            "\u001b[2mplaywright          \u001b[0m \u001b[32m-\u001b[2m-----------------------------\u001b[0m\u001b[0m 14.90 KiB/43.05 MiB         \u001b[2A\r\u001b[2K\u001b[1B\r\u001b[2K\u001b[1B\r\u001b[2K\u001b[2A\u001b[37m⠙\u001b[0m \u001b[2mPreparing packages...\u001b[0m (0/3)\n",
            "\u001b[2mapscheduler         \u001b[0m \u001b[32m--------\u001b[2m----------------------\u001b[0m\u001b[0m 16.00 KiB/62.50 KiB\n",
            "\u001b[2mplaywright          \u001b[0m \u001b[32m-\u001b[2m-----------------------------\u001b[0m\u001b[0m 30.90 KiB/43.05 MiB         \u001b[2A\r\u001b[2K\u001b[1B\r\u001b[2K\u001b[1B\r\u001b[2K\u001b[2A\u001b[37m⠙\u001b[0m \u001b[2mPreparing packages...\u001b[0m (0/3)\n",
            "\u001b[2mapscheduler         \u001b[0m \u001b[32m----------------\u001b[2m--------------\u001b[0m\u001b[0m 32.00 KiB/62.50 KiB\n",
            "\u001b[2mplaywright          \u001b[0m \u001b[32m-\u001b[2m-----------------------------\u001b[0m\u001b[0m 30.90 KiB/43.05 MiB         \u001b[2A\r\u001b[2K\u001b[1B\r\u001b[2K\u001b[1B\r\u001b[2K\u001b[2A\u001b[37m⠙\u001b[0m \u001b[2mPreparing packages...\u001b[0m (0/3)\n",
            "\u001b[2mapscheduler         \u001b[0m \u001b[32m----------------\u001b[2m--------------\u001b[0m\u001b[0m 32.00 KiB/62.50 KiB\n",
            "\u001b[2mplaywright          \u001b[0m \u001b[32m-\u001b[2m-----------------------------\u001b[0m\u001b[0m 46.90 KiB/43.05 MiB         \u001b[2A\r\u001b[2K\u001b[1B\r\u001b[2K\u001b[1B\r\u001b[2K\u001b[2A\u001b[37m⠙\u001b[0m \u001b[2mPreparing packages...\u001b[0m (0/3)\n",
            "\u001b[2mapscheduler         \u001b[0m \u001b[32m------------------------\u001b[2m------\u001b[0m\u001b[0m 48.00 KiB/62.50 KiB\n",
            "\u001b[2mplaywright          \u001b[0m \u001b[32m-\u001b[2m-----------------------------\u001b[0m\u001b[0m 46.90 KiB/43.05 MiB         \u001b[2A\r\u001b[2K\u001b[1B\r\u001b[2K\u001b[1B\r\u001b[2K\u001b[2A\u001b[37m⠙\u001b[0m \u001b[2mPreparing packages...\u001b[0m (0/3)\n",
            "\u001b[2mapscheduler         \u001b[0m \u001b[32m------------------------\u001b[2m------\u001b[0m\u001b[0m 48.00 KiB/62.50 KiB\n",
            "\u001b[2mplaywright          \u001b[0m \u001b[32m-\u001b[2m-----------------------------\u001b[0m\u001b[0m 62.90 KiB/43.05 MiB         \u001b[2A\r\u001b[2K\u001b[1B\r\u001b[2K\u001b[1B\r\u001b[2K\u001b[2A\u001b[37m⠙\u001b[0m \u001b[2mPreparing packages...\u001b[0m (0/3)\n",
            "\u001b[2mapscheduler         \u001b[0m \u001b[32m------------------------------\u001b[2m\u001b[0m\u001b[0m 62.50 KiB/62.50 KiB\n",
            "\u001b[2mplaywright          \u001b[0m \u001b[32m-\u001b[2m-----------------------------\u001b[0m\u001b[0m 62.90 KiB/43.05 MiB         \u001b[2A\r\u001b[2K\u001b[1B\r\u001b[2K\u001b[1B\r\u001b[2K\u001b[2A\u001b[37m⠙\u001b[0m \u001b[2mPreparing packages...\u001b[0m (0/3)\n",
            "\u001b[2mplaywright          \u001b[0m \u001b[32m-\u001b[2m-----------------------------\u001b[0m\u001b[0m 62.90 KiB/43.05 MiB         \u001b[1A\r\u001b[2K\u001b[1B\r\u001b[2K\u001b[1A\u001b[37m⠙\u001b[0m \u001b[2mPreparing packages...\u001b[0m (0/3)\n",
            "\u001b[2mplaywright          \u001b[0m \u001b[32m-\u001b[2m-----------------------------\u001b[0m\u001b[0m 76.20 KiB/43.05 MiB         \u001b[1A\r\u001b[2K\u001b[1B\r\u001b[2K\u001b[1A\u001b[37m⠙\u001b[0m \u001b[2mPreparing packages...\u001b[0m (0/3)\n",
            "\u001b[2mplaywright          \u001b[0m \u001b[32m-\u001b[2m-----------------------------\u001b[0m\u001b[0m 76.20 KiB/43.05 MiB         \u001b[1A\r\u001b[2K\u001b[1B\r\u001b[2K\u001b[1A\u001b[37m⠙\u001b[0m \u001b[2mPreparing packages...\u001b[0m (0/3)\n",
            "\u001b[2mpyee                \u001b[0m \u001b[32m\u001b[2m------------------------------\u001b[0m\u001b[0m     0 B/15.36 KiB\n",
            "\u001b[2mplaywright          \u001b[0m \u001b[32m-\u001b[2m-----------------------------\u001b[0m\u001b[0m 76.20 KiB/43.05 MiB         \u001b[2A\r\u001b[2K\u001b[1B\r\u001b[2K\u001b[1B\r\u001b[2K\u001b[2A\u001b[37m⠙\u001b[0m \u001b[2mPreparing packages...\u001b[0m (0/3)\n",
            "\u001b[2mpyee                \u001b[0m \u001b[32m------------------------------\u001b[2m\u001b[0m\u001b[0m 14.91 KiB/15.36 KiB\n",
            "\u001b[2mplaywright          \u001b[0m \u001b[32m-\u001b[2m-----------------------------\u001b[0m\u001b[0m 76.20 KiB/43.05 MiB         \u001b[2A\r\u001b[2K\u001b[1B\r\u001b[2K\u001b[1B\r\u001b[2K\u001b[2A\u001b[37m⠙\u001b[0m \u001b[2mPreparing packages...\u001b[0m (0/3)\n",
            "\u001b[2mpyee                \u001b[0m \u001b[32m------------------------------\u001b[2m\u001b[0m\u001b[0m 14.91 KiB/15.36 KiB\n",
            "\u001b[2mplaywright          \u001b[0m \u001b[32m-\u001b[2m-----------------------------\u001b[0m\u001b[0m 92.20 KiB/43.05 MiB         \u001b[2A\r\u001b[2K\u001b[1B\r\u001b[2K\u001b[1B\r\u001b[2K\u001b[2A\u001b[37m⠙\u001b[0m \u001b[2mPreparing packages...\u001b[0m (0/3)\n",
            "\u001b[2mpyee                \u001b[0m \u001b[32m------------------------------\u001b[2m\u001b[0m\u001b[0m 14.91 KiB/15.36 KiB\n",
            "\u001b[2mplaywright          \u001b[0m \u001b[32m-\u001b[2m-----------------------------\u001b[0m\u001b[0m 108.20 KiB/43.05 MiB        \u001b[2A\r\u001b[2K\u001b[1B\r\u001b[2K\u001b[1B\r\u001b[2K\u001b[2A\u001b[37m⠙\u001b[0m \u001b[2mPreparing packages...\u001b[0m (0/3)\n",
            "\u001b[2mpyee                \u001b[0m \u001b[32m------------------------------\u001b[2m\u001b[0m\u001b[0m 15.36 KiB/15.36 KiB\n",
            "\u001b[2mplaywright          \u001b[0m \u001b[32m-\u001b[2m-----------------------------\u001b[0m\u001b[0m 108.20 KiB/43.05 MiB        \u001b[2A\r\u001b[2K\u001b[1B\r\u001b[2K\u001b[1B\r\u001b[2K\u001b[2A\u001b[37m⠙\u001b[0m \u001b[2mPreparing packages...\u001b[0m (0/3)\n",
            "\u001b[2mplaywright          \u001b[0m \u001b[32m-\u001b[2m-----------------------------\u001b[0m\u001b[0m 108.20 KiB/43.05 MiB        \u001b[1A\r\u001b[2K\u001b[1B\r\u001b[2K\u001b[1A\u001b[37m⠙\u001b[0m \u001b[2mPreparing packages...\u001b[0m (0/3)\n",
            "\u001b[2K\u001b[1A\u001b[37m⠙\u001b[0m \u001b[2mPreparing packages...\u001b[0m (0/3)\n",
            "\u001b[2K\u001b[1A\u001b[37m⠹\u001b[0m \u001b[2mPreparing packages...\u001b[0m (2/3)\n",
            "\u001b[2K\u001b[1A\u001b[37m⠹\u001b[0m \u001b[2mPreparing packages...\u001b[0m (2/3)\n",
            "\u001b[2K\u001b[1A\u001b[37m⠹\u001b[0m \u001b[2mPreparing packages...\u001b[0m (2/3)\n",
            "\u001b[2K\u001b[1A\u001b[37m⠹\u001b[0m \u001b[2mPreparing packages...\u001b[0m (2/3)\n",
            "\u001b[2K\u001b[1A\u001b[37m⠸\u001b[0m \u001b[2mPreparing packages...\u001b[0m (2/3)\n",
            "\u001b[2K\u001b[1A\u001b[37m⠸\u001b[0m \u001b[2mPreparing packages...\u001b[0m (2/3)\n",
            "\u001b[2K\u001b[1A\u001b[37m⠸\u001b[0m \u001b[2mPreparing packages...\u001b[0m (2/3)\n",
            "\u001b[2K\u001b[1A\u001b[37m⠸\u001b[0m \u001b[2mPreparing packages...\u001b[0m (2/3)\n",
            "\u001b[2K\u001b[2mPrepared \u001b[1m3 packages\u001b[0m \u001b[2min 585ms\u001b[0m\u001b[0m\n",
            "\u001b[2K\u001b[2mInstalled \u001b[1m3 packages\u001b[0m \u001b[2min 23ms\u001b[0m\u001b[0m\n",
            " \u001b[32m+\u001b[39m \u001b[1mapscheduler\u001b[0m\u001b[2m==3.11.0\u001b[0m\n",
            " \u001b[32m+\u001b[39m \u001b[1mplaywright\u001b[0m\u001b[2m==1.52.0\u001b[0m\n",
            " \u001b[32m+\u001b[39m \u001b[1mpyee\u001b[0m\u001b[2m==13.0.0\u001b[0m\n"
          ]
        }
      ]
    }
  ],
  "metadata": {
    "accelerator": "GPU",
    "colab": {
      "provenance": []
    },
    "kernelspec": {
      "display_name": "Python 3",
      "name": "python3"
    },
    "language_info": {
      "name": "python"
    }
  },
  "nbformat": 4,
  "nbformat_minor": 0
}